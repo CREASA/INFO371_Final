{
 "cells": [
  {
   "cell_type": "markdown",
   "metadata": {},
   "source": [
    "# Sentiment Analysis"
   ]
  },
  {
   "cell_type": "code",
   "execution_count": 22,
   "metadata": {},
   "outputs": [
    {
     "name": "stderr",
     "output_type": "stream",
     "text": [
      "[nltk_data] Downloading package vader_lexicon to\n",
      "[nltk_data]     /Users/changxinyu/nltk_data...\n",
      "[nltk_data]   Package vader_lexicon is already up-to-date!\n"
     ]
    }
   ],
   "source": [
    "import pandas as pd\n",
    "from nltk.tokenize import word_tokenize\n",
    "import re\n",
    "from nltk.stem.porter import PorterStemmer\n",
    "from pprint import pprint\n",
    "from nltk.corpus import stopwords\n",
    "from collections import Counter\n",
    "import nltk\n",
    "nltk.download('vader_lexicon')\n",
    "from nltk.sentiment.vader import SentimentIntensityAnalyzer\n",
    "from nltk.util import ngrams\n",
    "from sklearn.feature_extraction.text import TfidfVectorizer\n",
    "from sklearn.model_selection import train_test_split\n",
    "import numpy as np\n",
    "from sklearn.neighbors import KNeighborsClassifier\n",
    "from sklearn.metrics import classification_report\n",
    "from sklearn.metrics import accuracy_score, precision_score, recall_score, f1_score, confusion_matrix\n",
    "from transformers import BertTokenizer, BertModel\n",
    "from torch.nn.functional import softmax\n",
    "import torch\n",
    "from tqdm.auto import tqdm\n",
    "from sentence_transformers import SentenceTransformer\n",
    "import matplotlib.pyplot as plt\n"
   ]
  },
  {
   "cell_type": "code",
   "execution_count": 23,
   "metadata": {},
   "outputs": [
    {
     "data": {
      "text/html": [
       "<div>\n",
       "<style scoped>\n",
       "    .dataframe tbody tr th:only-of-type {\n",
       "        vertical-align: middle;\n",
       "    }\n",
       "\n",
       "    .dataframe tbody tr th {\n",
       "        vertical-align: top;\n",
       "    }\n",
       "\n",
       "    .dataframe thead th {\n",
       "        text-align: right;\n",
       "    }\n",
       "</style>\n",
       "<table border=\"1\" class=\"dataframe\">\n",
       "  <thead>\n",
       "    <tr style=\"text-align: right;\">\n",
       "      <th></th>\n",
       "      <th>Unnamed: 0</th>\n",
       "      <th>user_name</th>\n",
       "      <th>text</th>\n",
       "      <th>user_location</th>\n",
       "      <th>user_description</th>\n",
       "      <th>user_created</th>\n",
       "      <th>user_followers</th>\n",
       "      <th>user_friends</th>\n",
       "      <th>user_favourites</th>\n",
       "      <th>user_verified</th>\n",
       "      <th>date</th>\n",
       "      <th>hashtags</th>\n",
       "      <th>source</th>\n",
       "    </tr>\n",
       "  </thead>\n",
       "  <tbody>\n",
       "    <tr>\n",
       "      <th>0</th>\n",
       "      <td>0</td>\n",
       "      <td>Tushar Gupta at DevFest Raipur.</td>\n",
       "      <td>Is this the end of Twitter threads?\\n#AI #Chat...</td>\n",
       "      <td>India</td>\n",
       "      <td>•Experiencing Life💬 &amp;&amp; Tech🥑 •Learning about💻:...</td>\n",
       "      <td>2021-10-05 05:05:55+00:00</td>\n",
       "      <td>230.0</td>\n",
       "      <td>438.0</td>\n",
       "      <td>1567</td>\n",
       "      <td>False</td>\n",
       "      <td>2022-12-20</td>\n",
       "      <td>['AI', 'ChatGPT']</td>\n",
       "      <td>Twitter for Android</td>\n",
       "    </tr>\n",
       "  </tbody>\n",
       "</table>\n",
       "</div>"
      ],
      "text/plain": [
       "   Unnamed: 0                        user_name  \\\n",
       "0           0  Tushar Gupta at DevFest Raipur.   \n",
       "\n",
       "                                                text user_location  \\\n",
       "0  Is this the end of Twitter threads?\\n#AI #Chat...         India   \n",
       "\n",
       "                                    user_description  \\\n",
       "0  •Experiencing Life💬 && Tech🥑 •Learning about💻:...   \n",
       "\n",
       "                user_created  user_followers  user_friends  user_favourites  \\\n",
       "0  2021-10-05 05:05:55+00:00           230.0         438.0             1567   \n",
       "\n",
       "   user_verified        date           hashtags               source  \n",
       "0          False  2022-12-20  ['AI', 'ChatGPT']  Twitter for Android  "
      ]
     },
     "execution_count": 23,
     "metadata": {},
     "output_type": "execute_result"
    }
   ],
   "source": [
    "# df = pd.read_csv(\"tweets.csv\")\n",
    "df = pd.read_csv(\"../data/new_dataset.csv\")\n",
    "df.head(1)"
   ]
  },
  {
   "cell_type": "markdown",
   "metadata": {},
   "source": [
    "## NLP Cleaning"
   ]
  },
  {
   "cell_type": "code",
   "execution_count": 24,
   "metadata": {},
   "outputs": [
    {
     "data": {
      "text/html": [
       "<div>\n",
       "<style scoped>\n",
       "    .dataframe tbody tr th:only-of-type {\n",
       "        vertical-align: middle;\n",
       "    }\n",
       "\n",
       "    .dataframe tbody tr th {\n",
       "        vertical-align: top;\n",
       "    }\n",
       "\n",
       "    .dataframe thead th {\n",
       "        text-align: right;\n",
       "    }\n",
       "</style>\n",
       "<table border=\"1\" class=\"dataframe\">\n",
       "  <thead>\n",
       "    <tr style=\"text-align: right;\">\n",
       "      <th></th>\n",
       "      <th>Unnamed: 0</th>\n",
       "      <th>user_name</th>\n",
       "      <th>text</th>\n",
       "      <th>user_location</th>\n",
       "      <th>user_description</th>\n",
       "      <th>user_created</th>\n",
       "      <th>user_followers</th>\n",
       "      <th>user_friends</th>\n",
       "      <th>user_favourites</th>\n",
       "      <th>user_verified</th>\n",
       "      <th>date</th>\n",
       "      <th>hashtags</th>\n",
       "      <th>source</th>\n",
       "      <th>preprocessed_text</th>\n",
       "    </tr>\n",
       "  </thead>\n",
       "  <tbody>\n",
       "    <tr>\n",
       "      <th>0</th>\n",
       "      <td>0</td>\n",
       "      <td>Tushar Gupta at DevFest Raipur.</td>\n",
       "      <td>Is this the end of Twitter threads?\\n#AI #Chat...</td>\n",
       "      <td>India</td>\n",
       "      <td>•Experiencing Life💬 &amp;&amp; Tech🥑 •Learning about💻:...</td>\n",
       "      <td>2021-10-05 05:05:55+00:00</td>\n",
       "      <td>230.0</td>\n",
       "      <td>438.0</td>\n",
       "      <td>1567</td>\n",
       "      <td>False</td>\n",
       "      <td>2022-12-20</td>\n",
       "      <td>['AI', 'ChatGPT']</td>\n",
       "      <td>Twitter for Android</td>\n",
       "      <td>end twitter thread ai chatgpt openai</td>\n",
       "    </tr>\n",
       "    <tr>\n",
       "      <th>1</th>\n",
       "      <td>1</td>\n",
       "      <td>PharmaTechnologyTrends</td>\n",
       "      <td>ChatGPT is a truly mind-blowing tool and playi...</td>\n",
       "      <td>Frankfurt am Main, Deutschland</td>\n",
       "      <td>Latest News and Trends in Pharmaceutical Industry</td>\n",
       "      <td>2022-11-06 21:03:59+00:00</td>\n",
       "      <td>264.0</td>\n",
       "      <td>4333.0</td>\n",
       "      <td>24</td>\n",
       "      <td>False</td>\n",
       "      <td>2022-12-20</td>\n",
       "      <td>NaN</td>\n",
       "      <td>EveryoneSocial</td>\n",
       "      <td>chatgpt truli tool play around definit send ra...</td>\n",
       "    </tr>\n",
       "  </tbody>\n",
       "</table>\n",
       "</div>"
      ],
      "text/plain": [
       "   Unnamed: 0                        user_name  \\\n",
       "0           0  Tushar Gupta at DevFest Raipur.   \n",
       "1           1           PharmaTechnologyTrends   \n",
       "\n",
       "                                                text  \\\n",
       "0  Is this the end of Twitter threads?\\n#AI #Chat...   \n",
       "1  ChatGPT is a truly mind-blowing tool and playi...   \n",
       "\n",
       "                    user_location  \\\n",
       "0                           India   \n",
       "1  Frankfurt am Main, Deutschland   \n",
       "\n",
       "                                    user_description  \\\n",
       "0  •Experiencing Life💬 && Tech🥑 •Learning about💻:...   \n",
       "1  Latest News and Trends in Pharmaceutical Industry   \n",
       "\n",
       "                user_created  user_followers  user_friends  user_favourites  \\\n",
       "0  2021-10-05 05:05:55+00:00           230.0         438.0             1567   \n",
       "1  2022-11-06 21:03:59+00:00           264.0        4333.0               24   \n",
       "\n",
       "   user_verified        date           hashtags               source  \\\n",
       "0          False  2022-12-20  ['AI', 'ChatGPT']  Twitter for Android   \n",
       "1          False  2022-12-20                NaN       EveryoneSocial   \n",
       "\n",
       "                                   preprocessed_text  \n",
       "0               end twitter thread ai chatgpt openai  \n",
       "1  chatgpt truli tool play around definit send ra...  "
      ]
     },
     "execution_count": 24,
     "metadata": {},
     "output_type": "execute_result"
    }
   ],
   "source": [
    "# Remove Spam\n",
    "df = df[(df['text'].str.contains('MidJour') == False) & (df['text'].str.contains('Giveaway') == False)]\n",
    "\n",
    "def preprocessing(text):\n",
    "    # Remove links\n",
    "    text = re.sub(r'http\\S+|www\\S+|https\\S+', '', text, flags=re.MULTILINE)\n",
    "    \n",
    "    # introduce stemmer and stop words\n",
    "    ps = PorterStemmer()\n",
    "    stop_words = set(stopwords.words('english'))\n",
    "    \n",
    "    # cleaning and tokennize\n",
    "    cleaned_tokens = []\n",
    "    \n",
    "    # tokenize, lowercase, remove stop words, and stemming\n",
    "    for token in word_tokenize(text):\n",
    "        token = token.lower()\n",
    "        if token not in stop_words and token.isalnum():\n",
    "            cleaned_tokens.append(ps.stem(token))\n",
    "            \n",
    "    return ' '.join(cleaned_tokens)\n",
    "\n",
    "# create a new column for preprocessed text\n",
    "df[\"preprocessed_text\"] = df.text.apply(preprocessing)\n",
    "df.head(2)"
   ]
  },
  {
   "cell_type": "markdown",
   "metadata": {},
   "source": [
    "By observing the result in clustering, we found there are some spam messages, and all of them contains words \"MidJour\" or \"Giveaway\". After removing those rows, there are 400+ rows reduced.\n",
    "\n",
    "The cleaning function above involves various common techniques in text preprocessing in NLP. Below is a detailed explanation of these steps:\n",
    "- Use `Rege`x to remove URLs ensures irrelevant information has been excluded since URLs do not contain sentiment information that is useful for this research.\n",
    "- Use `word_tokenize` to tokenize texts into individual tokens.\n",
    "- Use lowercase, remove punctuation, remove stop words from `stopwords`, and stemming from `PorterStemmer` to ensure tokenized text free from redundancy, and standardize words to their root form."
   ]
  },
  {
   "cell_type": "code",
   "execution_count": 25,
   "metadata": {},
   "outputs": [
    {
     "data": {
      "text/plain": [
       "(38630, 14)"
      ]
     },
     "execution_count": 25,
     "metadata": {},
     "output_type": "execute_result"
    }
   ],
   "source": [
    "df.shape"
   ]
  },
  {
   "cell_type": "markdown",
   "metadata": {},
   "source": [
    "## Most Common Tokens/Trigrams and Counts"
   ]
  },
  {
   "cell_type": "code",
   "execution_count": 26,
   "metadata": {},
   "outputs": [],
   "source": [
    "# extract tokens into a list of lists\n",
    "tokens = []\n",
    "for text in df.preprocessed_text:\n",
    "    tokens.extend(text.split())"
   ]
  },
  {
   "cell_type": "code",
   "execution_count": 27,
   "metadata": {},
   "outputs": [
    {
     "name": "stdout",
     "output_type": "stream",
     "text": [
      "20 most common tokens and counts:\n",
      "[('chatgpt', 44586),\n",
      " ('ai', 11116),\n",
      " ('openai', 7381),\n",
      " ('use', 4846),\n",
      " ('ask', 4340),\n",
      " ('write', 3517),\n",
      " ('like', 3069),\n",
      " ('answer', 2252),\n",
      " ('question', 2083),\n",
      " ('make', 2016),\n",
      " ('get', 1997),\n",
      " ('gener', 1988),\n",
      " ('new', 1988),\n",
      " ('think', 1936),\n",
      " ('tri', 1919),\n",
      " ('code', 1884),\n",
      " ('one', 1812),\n",
      " ('googl', 1786),\n",
      " ('know', 1741),\n",
      " ('time', 1719)]\n"
     ]
    }
   ],
   "source": [
    "# count the tokens and print the most common ones\n",
    "token_counts = Counter(tokens)\n",
    "print('20 most common tokens and counts:')\n",
    "pprint(token_counts.most_common(20))"
   ]
  },
  {
   "cell_type": "code",
   "execution_count": 28,
   "metadata": {},
   "outputs": [
    {
     "name": "stdout",
     "output_type": "stream",
     "text": [
      "The most prevalent trigram and count:\n",
      "[(('ask', 'chatgpt', 'write'), 504),\n",
      " (('chatgpt', 'ask', 'chatgpt'), 320),\n",
      " (('chatgpt', 'openai', 'chatgpt'), 228),\n",
      " (('ai', 'chatgpt', 'openai'), 182),\n",
      " (('chatgpt', 'ai', 'openai'), 168),\n",
      " (('larg', 'languag', 'model'), 147),\n",
      " (('1', 'million', 'user'), 136),\n",
      " (('openai', 'chatgpt', 'chatgpt'), 130),\n",
      " (('chatgpt', 'ai', 'chatgpt'), 128),\n",
      " (('chatgpt', 'openai', 'ai'), 115),\n",
      " (('peopl', 'talk', 'chatgpt'), 111),\n",
      " (('talk', 'chatgpt', 'ai'), 110),\n",
      " (('ask', 'openai', 'chatgpt'), 110),\n",
      " (('play', 'around', 'chatgpt'), 109),\n",
      " (('openai', 'chatgpt', 'openai'), 108),\n",
      " (('use', 'chatgpt', 'write'), 107),\n",
      " (('3', 'tax', 'liquid'), 102),\n",
      " (('tax', 'liquid', 'lock'), 102),\n",
      " (('super', 'bullish', 'one'), 102),\n",
      " (('bullish', 'one', 'lot'), 102)]\n"
     ]
    }
   ],
   "source": [
    "# count the trigrams and print the most common ones\n",
    "tri_counts = Counter(ngrams(tokens, 3))\n",
    "print('The most prevalent trigram and count:')\n",
    "pprint(tri_counts.most_common(20))"
   ]
  },
  {
   "cell_type": "markdown",
   "metadata": {},
   "source": [
    "This section identified the top 20 most common words and trigrams from the user reveiw texts. It used `Counter` to count the token occurrences and generate most common results, and used `ngrams` to capture local context in text. The above methhods provides a simple and general understanding of what the corpus is about, as well as patterns and themes in the dataset.\n",
    "<br>\n",
    "<br>\n",
    "However, the frequency of a word does not represent the importance of that word for user sentiment expression. For methods focusing on sentiment analysis will be elaborated in the following sections"
   ]
  },
  {
   "cell_type": "markdown",
   "metadata": {},
   "source": [
    "## Equipping Sentiment Labels with `VADER`"
   ]
  },
  {
   "cell_type": "code",
   "execution_count": 29,
   "metadata": {},
   "outputs": [],
   "source": [
    "# Reference for categorizing compound score:\n",
    "# https://towardsdatascience.com/social-media-sentiment-analysis-in-python-with-vader-no-training-required-4bc6a21e87b8\n",
    "\n",
    "# VADER sentiment intensity analyzer\n",
    "vader = SentimentIntensityAnalyzer()\n",
    "\n",
    "# function to generate sentiment labels based on preprocessed_text column\n",
    "def get_sentiment_labels(preprocessed_text):\n",
    "    # calculate setiment scores, from scr, extract compound score\n",
    "    scores = vader.polarity_scores(preprocessed_text)\n",
    "    compound = scores[\"compound\"]\n",
    "    \n",
    "    # 1: positive\n",
    "    # -1: negative\n",
    "    # 0: neutral\n",
    "    if compound > 0.05:\n",
    "        return 1\n",
    "    elif compound < -0.05:\n",
    "        return -1\n",
    "    else:\n",
    "        return 0\n",
    "\n",
    "# create a new column for vader sentiment labels\n",
    "df[\"label_vader\"] = df.preprocessed_text.apply(get_sentiment_labels)"
   ]
  },
  {
   "cell_type": "code",
   "execution_count": 30,
   "metadata": {},
   "outputs": [
    {
     "data": {
      "text/plain": [
       "Text(0.5, 1.0, 'Distribution of label_vader Sentiment Values')"
      ]
     },
     "execution_count": 30,
     "metadata": {},
     "output_type": "execute_result"
    },
    {
     "data": {
      "image/png": "[encoded data removed]",
      "text/plain": [
       "<Figure size 432x288 with 1 Axes>"
      ]
     },
     "metadata": {},
     "output_type": "display_data"
    }
   ],
   "source": [
    "label_value_counts = df.label_vader.value_counts()\n",
    "\n",
    "plt.pie(label_value_counts, \n",
    "        labels = label_value_counts.index.map({1: 'positive', 0: 'neutral', -1: 'negative'}), \n",
    "        autopct= \"%1.1f%%\")\n",
    "\n",
    "plt.title('Distribution of label_vader Sentiment Values')"
   ]
  },
  {
   "cell_type": "code",
   "execution_count": 31,
   "metadata": {},
   "outputs": [],
   "source": [
    "df.to_csv('tweets_preprocessed_VADER_label.csv', index=True) "
   ]
  },
  {
   "cell_type": "markdown",
   "metadata": {},
   "source": [
    "Reference for VADER introduction: \n",
    "<br>\n",
    "https://github.com/cjhutto/vaderSentiment\n",
    "<br>\n",
    "<br>\n",
    "This section used `SentimentIntensityAnalyzer` from `VADER` to determine the sentiment of user review text. In specific, it examines the compound score (> 0.05: positive, < -0.05: negative, in-between: neutral) to set thresholds in categorizing sentiment labels as 1, -1, 0 respectively.\n",
    "<br>\n",
    "<br>\n",
    "In this research, we conducted a series of sentiment analysis based on the user review from social media. This is align with the nature of `VADER`: \"a rule-based sentiment analysis tool that is specifically attuned to sentiments expressed in social media.\" (vaderSentiment). In addition, the choice of categorizing sentiment based on 0.05 and -0.05 compund score is a commonly used practice in sentiment analysis.\n",
    "<br>\n",
    "<br>\n",
    "The limitation for this method is the value of thresholds in categorizing sentiment may not be an universal golden rule, hence adjust these thresholds accordingly with dataset might be necessary. Furthermore, using only 1, -1, and 0 for positive, negative, and neutral may leave out more detailed information about sentiments."
   ]
  },
  {
   "cell_type": "markdown",
   "metadata": {},
   "source": [
    "## Top `TF-IDF` Weighted Vectors by Label"
   ]
  },
  {
   "cell_type": "code",
   "execution_count": 32,
   "metadata": {},
   "outputs": [
    {
     "data": {
      "text/plain": [
       "{1: {'chatgpt': 1.0,\n",
       "  'yep': 0.9962857266697842,\n",
       "  'well': 0.9877355072577403,\n",
       "  'recommends': 0.9715837500968791,\n",
       "  'talent': 0.9679896886961143,\n",
       "  'iex_ec': 0.9667445930207952,\n",
       "  'enjoying': 0.963855714807394,\n",
       "  'sweet': 0.9631753743409757,\n",
       "  'lmao': 0.9625285380942425,\n",
       "  'season': 0.9596787299731296},\n",
       " -1: {'damn': 0.9892775707478788,\n",
       "  'shoot': 0.9723530040004926,\n",
       "  'worthless': 0.9702257980753435,\n",
       "  'strike': 0.9690438633424487,\n",
       "  'doomed': 0.9657387833722632,\n",
       "  'fuck': 0.9653379238435605,\n",
       "  'crashed': 0.9607524621858509,\n",
       "  'fail': 0.960205996024122,\n",
       "  'obsessed': 0.959940074504494,\n",
       "  'fails': 0.9589201946667573},\n",
       " 0: {'chatgpt': 1.0,\n",
       "  'something': 0.9979085107104367,\n",
       "  'omfg': 0.9942173805215638,\n",
       "  'offline': 0.9936807388082649,\n",
       "  'rocks': 0.9935660270541502,\n",
       "  'monetize': 0.9935660270541502,\n",
       "  'neither': 0.9931579905771529,\n",
       "  'poll': 0.9930660598147762,\n",
       "  'nope': 0.9930660598147762,\n",
       "  'disrupted': 0.9928916953774996}}"
      ]
     },
     "execution_count": 32,
     "metadata": {},
     "output_type": "execute_result"
    }
   ],
   "source": [
    "# split data to 80% training and 20% validation\n",
    "dfT, dfV = train_test_split(df, test_size = 0.2, random_state=42)\n",
    "\n",
    "# Use the tf-idf vectorizer to convert all texts into weighted vectors \n",
    "# Only keep words that appear at least 5 times\n",
    "vectorizer = TfidfVectorizer(min_df = 5)\n",
    "train_vectors = vectorizer.fit_transform(dfT.text)\n",
    "test_vectors = vectorizer.transform(dfV.text)\n",
    "\n",
    "# get all the tokens\n",
    "all_token = np.array(vectorizer.get_feature_names_out())\n",
    "\n",
    "result = {}\n",
    "\n",
    "# for each class c, get top 10 token and its weight\n",
    "for l in dfT.label_vader.unique():\n",
    "    \n",
    "    # match label, then get vectorizer\n",
    "    l_df = dfT[dfT.label_vader == l]\n",
    "    l_vectors = vectorizer.transform(l_df.text)\n",
    "    \n",
    "    # get highest values, get sort\n",
    "    weight = l_vectors.max(axis=0).toarray()[0]\n",
    "    sort = np.argsort(weight)[::-1]\n",
    "    \n",
    "    # get top 10 that matches the label\n",
    "    top10 = all_token[sort][:10]\n",
    "    top10_val = weight[sort][:10]\n",
    "    result[l] = dict(zip(top10, top10_val))\n",
    "\n",
    "result"
   ]
  },
  {
   "cell_type": "markdown",
   "metadata": {},
   "source": [
    "Term frequency-inverse document frequency (TF-IDF) measures how important a word is to a document considering the whole corpus (or collection of documents). It focused on examining how relevant a word is in a single document rather than the frequency of a word that appears in the corpus.\n",
    "<br>\n",
    "<br>\n",
    "TF-IDF is a standard word embedding technique that transforms words into weighted vectors to capture the crucialness of the word. In this case, using the original \"text\" column instead of \"preprocessed_text\" produces a more \n",
    "<br>\n",
    "<br>\n",
    "However, the limitation of TF-IDF is it only examines word itself, which may result in the model not capturing the semantic relationship within the context. The following sections will use more advanced models to tackle semantic meanings inside the sentiments."
   ]
  },
  {
   "cell_type": "markdown",
   "metadata": {},
   "source": [
    "# Word Embeddings & Modeling with TF-IDF"
   ]
  },
  {
   "cell_type": "code",
   "execution_count": 33,
   "metadata": {},
   "outputs": [
    {
     "data": {
      "text/plain": [
       "(0.6009578048149107, 0.5376987978910676)"
      ]
     },
     "execution_count": 33,
     "metadata": {},
     "output_type": "execute_result"
    }
   ],
   "source": [
    "# train and validation set for knn\n",
    "Xt = train_vectors\n",
    "yt = dfT.label_vader\n",
    "Xv = test_vectors\n",
    "yv = dfV.label_vader\n",
    "\n",
    "# knn model with 10 neighbors and cosine similarity \n",
    "knn = KNeighborsClassifier(n_neighbors = 10, metric = \"cosine\")\n",
    "knn.fit(Xt, yt)\n",
    "\n",
    "# predict label\n",
    "yv_hat = knn.predict(Xv)\n",
    "\n",
    "# micro and macro F1\n",
    "microF1 = f1_score(yv, yv_hat, average = \"micro\")\n",
    "macroF1 = f1_score(yv, yv_hat, average = \"macro\")\n",
    "\n",
    "microF1, macroF1"
   ]
  },
  {
   "cell_type": "code",
   "execution_count": 34,
   "metadata": {},
   "outputs": [
    {
     "name": "stdout",
     "output_type": "stream",
     "text": [
      "              precision    recall  f1-score   support\n",
      "\n",
      "          -1       0.79      0.28      0.41      1146\n",
      "           0       0.53      0.93      0.68      3250\n",
      "           1       0.80      0.39      0.53      3330\n",
      "\n",
      "    accuracy                           0.60      7726\n",
      "   macro avg       0.71      0.53      0.54      7726\n",
      "weighted avg       0.69      0.60      0.57      7726\n",
      "\n"
     ]
    }
   ],
   "source": [
    "# classification report\n",
    "print(classification_report(yv, yv_hat))"
   ]
  },
  {
   "cell_type": "markdown",
   "metadata": {},
   "source": [
    "# Sentence Embeddings & Modeling with `BERT`"
   ]
  },
  {
   "cell_type": "code",
   "execution_count": 35,
   "metadata": {
    "scrolled": true
   },
   "outputs": [
    {
     "data": {
      "application/vnd.jupyter.widget-view+json": {
       "model_id": "b52f027b64084da4a394806be3700001",
       "version_major": 2,
       "version_minor": 0
      },
      "text/plain": [
       "Downloading .gitattributes:   0%|          | 0.00/391 [00:00<?, ?B/s]"
      ]
     },
     "metadata": {},
     "output_type": "display_data"
    },
    {
     "data": {
      "application/vnd.jupyter.widget-view+json": {
       "model_id": "06937844828c4264a69fb1488480cbf1",
       "version_major": 2,
       "version_minor": 0
      },
      "text/plain": [
       "Downloading 1_Pooling/config.json:   0%|          | 0.00/190 [00:00<?, ?B/s]"
      ]
     },
     "metadata": {},
     "output_type": "display_data"
    },
    {
     "data": {
      "application/vnd.jupyter.widget-view+json": {
       "model_id": "d66a95a3cc05438f948cb6edc5bbd8bf",
       "version_major": 2,
       "version_minor": 0
      },
      "text/plain": [
       "Downloading README.md:   0%|          | 0.00/3.95k [00:00<?, ?B/s]"
      ]
     },
     "metadata": {},
     "output_type": "display_data"
    },
    {
     "data": {
      "application/vnd.jupyter.widget-view+json": {
       "model_id": "f0509cd5005844e88b4b10329b688427",
       "version_major": 2,
       "version_minor": 0
      },
      "text/plain": [
       "Downloading added_tokens.json:   0%|          | 0.00/2.00 [00:00<?, ?B/s]"
      ]
     },
     "metadata": {},
     "output_type": "display_data"
    },
    {
     "data": {
      "application/vnd.jupyter.widget-view+json": {
       "model_id": "89b828975b264370a66bc27c7f75cf2b",
       "version_major": 2,
       "version_minor": 0
      },
      "text/plain": [
       "Downloading config.json:   0%|          | 0.00/625 [00:00<?, ?B/s]"
      ]
     },
     "metadata": {},
     "output_type": "display_data"
    },
    {
     "data": {
      "application/vnd.jupyter.widget-view+json": {
       "model_id": "8c1386bece6d46329684b070a9fc1168",
       "version_major": 2,
       "version_minor": 0
      },
      "text/plain": [
       "Downloading (…)ce_transformers.json:   0%|          | 0.00/122 [00:00<?, ?B/s]"
      ]
     },
     "metadata": {},
     "output_type": "display_data"
    },
    {
     "data": {
      "application/vnd.jupyter.widget-view+json": {
       "model_id": "b5e6354dd8014c588a26a87a145f7e3b",
       "version_major": 2,
       "version_minor": 0
      },
      "text/plain": [
       "Downloading pytorch_model.bin:   0%|          | 0.00/438M [00:00<?, ?B/s]"
      ]
     },
     "metadata": {},
     "output_type": "display_data"
    },
    {
     "data": {
      "application/vnd.jupyter.widget-view+json": {
       "model_id": "b6e2001f67cf4dcca9865d3b7bb2d0fd",
       "version_major": 2,
       "version_minor": 0
      },
      "text/plain": [
       "Downloading (…)nce_bert_config.json:   0%|          | 0.00/53.0 [00:00<?, ?B/s]"
      ]
     },
     "metadata": {},
     "output_type": "display_data"
    },
    {
     "data": {
      "application/vnd.jupyter.widget-view+json": {
       "model_id": "feab71fd3c124ff3837d7c928ef64ce8",
       "version_major": 2,
       "version_minor": 0
      },
      "text/plain": [
       "Downloading (…)cial_tokens_map.json:   0%|          | 0.00/112 [00:00<?, ?B/s]"
      ]
     },
     "metadata": {},
     "output_type": "display_data"
    },
    {
     "data": {
      "application/vnd.jupyter.widget-view+json": {
       "model_id": "df00d1be3592445d9246c98b6dc0f9d3",
       "version_major": 2,
       "version_minor": 0
      },
      "text/plain": [
       "Downloading tokenizer.json:   0%|          | 0.00/466k [00:00<?, ?B/s]"
      ]
     },
     "metadata": {},
     "output_type": "display_data"
    },
    {
     "data": {
      "application/vnd.jupyter.widget-view+json": {
       "model_id": "609c116aecde41c6bc70b549bf0e2fae",
       "version_major": 2,
       "version_minor": 0
      },
      "text/plain": [
       "Downloading tokenizer_config.json:   0%|          | 0.00/399 [00:00<?, ?B/s]"
      ]
     },
     "metadata": {},
     "output_type": "display_data"
    },
    {
     "data": {
      "application/vnd.jupyter.widget-view+json": {
       "model_id": "0db6bc63cbc0435faafad58fe4efa793",
       "version_major": 2,
       "version_minor": 0
      },
      "text/plain": [
       "Downloading vocab.txt:   0%|          | 0.00/232k [00:00<?, ?B/s]"
      ]
     },
     "metadata": {},
     "output_type": "display_data"
    },
    {
     "data": {
      "application/vnd.jupyter.widget-view+json": {
       "model_id": "f25532493a7c49009c4c15dc6636c674",
       "version_major": 2,
       "version_minor": 0
      },
      "text/plain": [
       "Downloading modules.json:   0%|          | 0.00/229 [00:00<?, ?B/s]"
      ]
     },
     "metadata": {},
     "output_type": "display_data"
    },
    {
     "data": {
      "application/vnd.jupyter.widget-view+json": {
       "model_id": "4b0bdef44a66413b90dd64fa0e30098d",
       "version_major": 2,
       "version_minor": 0
      },
      "text/plain": [
       "Batches:   0%|          | 0/966 [00:00<?, ?it/s]"
      ]
     },
     "metadata": {},
     "output_type": "display_data"
    },
    {
     "data": {
      "application/vnd.jupyter.widget-view+json": {
       "model_id": "3ff9218f3a8240808178db881b0f1c32",
       "version_major": 2,
       "version_minor": 0
      },
      "text/plain": [
       "Batches:   0%|          | 0/242 [00:00<?, ?it/s]"
      ]
     },
     "metadata": {},
     "output_type": "display_data"
    }
   ],
   "source": [
    "# load BERT\n",
    "model = SentenceTransformer(\"bert-base-nli-mean-tokens\")\n",
    "\n",
    "# sentence embedding\n",
    "train_BERT = model.encode(dfT.preprocessed_text.tolist(), show_progress_bar=True)\n",
    "test_BERT = model.encode(dfV.preprocessed_text.tolist(), show_progress_bar=True)"
   ]
  },
  {
   "cell_type": "code",
   "execution_count": 36,
   "metadata": {},
   "outputs": [
    {
     "data": {
      "text/plain": [
       "(0.7158943826041936, 0.6886081853514131)"
      ]
     },
     "execution_count": 36,
     "metadata": {},
     "output_type": "execute_result"
    }
   ],
   "source": [
    "# train and validation set for knn\n",
    "Xt = train_BERT\n",
    "yt = dfT.label_vader\n",
    "Xv = test_BERT\n",
    "yv = dfV.label_vader\n",
    "\n",
    "# knn model with 10 neighbors and cosine similarity \n",
    "knn = KNeighborsClassifier(n_neighbors = 10, metric = \"cosine\")\n",
    "knn.fit(Xt, yt)\n",
    "\n",
    "# predict label\n",
    "yv_hat = knn.predict(Xv)\n",
    "\n",
    "# micro and macro F1\n",
    "microF1 = f1_score(yv, yv_hat, average = \"micro\")\n",
    "macroF1 = f1_score(yv, yv_hat, average = \"macro\")\n",
    "\n",
    "microF1, macroF1"
   ]
  },
  {
   "cell_type": "code",
   "execution_count": 37,
   "metadata": {},
   "outputs": [
    {
     "name": "stdout",
     "output_type": "stream",
     "text": [
      "              precision    recall  f1-score   support\n",
      "\n",
      "          -1       0.63      0.56      0.60      1146\n",
      "           0       0.71      0.80      0.75      3250\n",
      "           1       0.75      0.69      0.72      3330\n",
      "\n",
      "    accuracy                           0.72      7726\n",
      "   macro avg       0.70      0.68      0.69      7726\n",
      "weighted avg       0.72      0.72      0.71      7726\n",
      "\n"
     ]
    }
   ],
   "source": [
    "# classification report\n",
    "print(classification_report(yv, yv_hat))"
   ]
  },
  {
   "cell_type": "markdown",
   "metadata": {},
   "source": [
    "This section used `Sentence-BERT` and `KNN classifier` to use the \"preprocessed_text\" column to predict label. Sentence-BERT transformer is commonly used for sentence embeddings by capturing samentic relathinthips across sentences. KNN classifier with `cosine similarity` is used to measure the angular difference between vectors.\n",
    "<br>\n",
    "<br>\n",
    "whats good?\n",
    "<br>\n",
    "<br>\n",
    "whats bad?"
   ]
  }
 ],
 "metadata": {
  "kernelspec": {
   "display_name": "Python 3 (ipykernel)",
   "language": "python",
   "name": "python3"
  },
  "language_info": {
   "codemirror_mode": {
    "name": "ipython",
    "version": 3
   },
   "file_extension": ".py",
   "mimetype": "text/x-python",
   "name": "python",
   "nbconvert_exporter": "python",
   "pygments_lexer": "ipython3",
   "version": "3.9.12"
  }
 },
 "nbformat": 4,
 "nbformat_minor": 4
}
